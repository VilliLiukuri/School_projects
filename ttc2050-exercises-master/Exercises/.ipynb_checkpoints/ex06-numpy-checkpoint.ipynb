{
 "cells": [
  {
   "cell_type": "markdown",
   "metadata": {},
   "source": [
    "## Exercise 6 - Numpy"
   ]
  },
  {
   "cell_type": "code",
   "execution_count": 48,
   "metadata": {},
   "outputs": [],
   "source": [
    "import time\n",
    "import numpy as np"
   ]
  },
  {
   "cell_type": "markdown",
   "metadata": {},
   "source": [
    "1 Generate two NumPy arrays so that first array has integers from 10 to 40 (inclusive). Second array should have 30 integers from 220 to 250 (inclusive). Sum these arrays and present the result array."
   ]
  },
  {
   "cell_type": "code",
   "execution_count": 49,
   "metadata": {},
   "outputs": [
    {
     "data": {
      "text/plain": [
       "array([230, 232, 234, 236, 238, 240, 242, 244, 246, 248, 250, 252, 254,\n",
       "       256, 258, 260, 262, 264, 266, 268, 270, 272, 274, 276, 278, 280,\n",
       "       282, 284, 286, 288, 290])"
      ]
     },
     "execution_count": 49,
     "metadata": {},
     "output_type": "execute_result"
    }
   ],
   "source": [
    "arr1 = np.arange(10,41)\n",
    "arr2 = np.arange(220,251)\n",
    "result_arr = arr1 + arr2\n",
    "result_arr"
   ]
  },
  {
   "cell_type": "markdown",
   "metadata": {},
   "source": [
    "2 Generate two-dimensional array with 10 rows and 7 columns containing integers starting from 100."
   ]
  },
  {
   "cell_type": "code",
   "execution_count": 50,
   "metadata": {},
   "outputs": [
    {
     "data": {
      "text/plain": [
       "array([[100, 101, 102, 103, 104, 105, 106],\n",
       "       [107, 108, 109, 110, 111, 112, 113],\n",
       "       [114, 115, 116, 117, 118, 119, 120],\n",
       "       [121, 122, 123, 124, 125, 126, 127],\n",
       "       [128, 129, 130, 131, 132, 133, 134],\n",
       "       [135, 136, 137, 138, 139, 140, 141],\n",
       "       [142, 143, 144, 145, 146, 147, 148],\n",
       "       [149, 150, 151, 152, 153, 154, 155],\n",
       "       [156, 157, 158, 159, 160, 161, 162],\n",
       "       [163, 164, 165, 166, 167, 168, 169]])"
      ]
     },
     "execution_count": 50,
     "metadata": {},
     "output_type": "execute_result"
    }
   ],
   "source": [
    "new_arr = np.arange(100,170).reshape(10,7)\n",
    "new_arr"
   ]
  },
  {
   "cell_type": "markdown",
   "metadata": {},
   "source": [
    "3 Generate three-dimensional array (3x3x3) with random floats."
   ]
  },
  {
   "cell_type": "code",
   "execution_count": 51,
   "metadata": {},
   "outputs": [
    {
     "data": {
      "text/plain": [
       "array([[[0.17069504, 0.85606003, 0.01468467],\n",
       "        [0.87640894, 0.09710461, 0.02227693],\n",
       "        [0.19264749, 0.75322401, 0.14822269]],\n",
       "\n",
       "       [[0.3196869 , 0.90891987, 0.27518485],\n",
       "        [0.63130707, 0.73865825, 0.38097354],\n",
       "        [0.67819333, 0.07984505, 0.77769114]],\n",
       "\n",
       "       [[0.3000657 , 0.69080514, 0.01664607],\n",
       "        [0.75809597, 0.32460641, 0.31417537],\n",
       "        [0.61939407, 0.31740445, 0.55296574]]])"
      ]
     },
     "execution_count": 51,
     "metadata": {},
     "output_type": "execute_result"
    }
   ],
   "source": [
    "num_arr = np.random.rand(3,3,3)\n",
    "num_arr"
   ]
  },
  {
   "cell_type": "markdown",
   "metadata": {},
   "source": [
    "4 Generate two one-dimensional arrays having integers between 1-50. First array should have even and second array should have odd numbers. Finally multiply each corresponding numbers from these two arrays for the result array."
   ]
  },
  {
   "cell_type": "code",
   "execution_count": 52,
   "metadata": {},
   "outputs": [
    {
     "data": {
      "text/plain": [
       "array([   2,   12,   30,   56,   90,  132,  182,  240,  306,  380,  462,\n",
       "        552,  650,  756,  870,  992, 1122, 1260, 1406, 1560, 1722, 1892,\n",
       "       2070, 2256, 2450])"
      ]
     },
     "execution_count": 52,
     "metadata": {},
     "output_type": "execute_result"
    }
   ],
   "source": [
    "arrgh1 = np.arange(1,51,2)\n",
    "arrgh2 = np.arange(2,51,2)\n",
    "arrgh = arrgh1 * arrgh2\n",
    "arrgh"
   ]
  },
  {
   "cell_type": "markdown",
   "metadata": {},
   "source": [
    "5 Generate two-dimensional array (40 rows, 5 columns) containing random integers between 1 and 1000. Filter the result array so that only numbers divisable with numbers 2 and 6 are presented."
   ]
  },
  {
   "cell_type": "code",
   "execution_count": 53,
   "metadata": {},
   "outputs": [
    {
     "data": {
      "text/plain": [
       "array([522, 492, 630, 192,   6, 810, 828, 966,  12, 324, 102,  12, 138,\n",
       "       660, 450, 132, 540, 348, 396, 996, 732, 630, 552, 360, 690, 366,\n",
       "       792, 642, 942,   6, 624, 714, 942, 702, 834, 588, 954, 156, 624])"
      ]
     },
     "execution_count": 53,
     "metadata": {},
     "output_type": "execute_result"
    }
   ],
   "source": [
    "numa = np.random.randint(1,1000,200).reshape(40,5)\n",
    "numanumayei = numa[(numa%2==0) & (numa%6==0)]\n",
    "numanumayei"
   ]
  },
  {
   "cell_type": "code",
   "execution_count": null,
   "metadata": {},
   "outputs": [],
   "source": []
  },
  {
   "cell_type": "code",
   "execution_count": null,
   "metadata": {},
   "outputs": [],
   "source": []
  }
 ],
 "metadata": {
  "kernelspec": {
   "display_name": "Python 3 (ipykernel)",
   "language": "python",
   "name": "python3"
  },
  "language_info": {
   "codemirror_mode": {
    "name": "ipython",
    "version": 3
   },
   "file_extension": ".py",
   "mimetype": "text/x-python",
   "name": "python",
   "nbconvert_exporter": "python",
   "pygments_lexer": "ipython3",
   "version": "3.8.8"
  }
 },
 "nbformat": 4,
 "nbformat_minor": 4
}

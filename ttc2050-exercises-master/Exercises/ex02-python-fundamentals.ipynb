{
 "cells": [
  {
   "cell_type": "markdown",
   "metadata": {},
   "source": [
    "## Exercise 2 - Python fundamentals Part 2"
   ]
  },
  {
   "cell_type": "markdown",
   "metadata": {},
   "source": [
    "1 Create a function which will go through a list called **vars** and save the type of each variable to a new list. The starting information is given in the next cell."
   ]
  },
  {
   "cell_type": "code",
   "execution_count": 1,
   "metadata": {},
   "outputs": [
    {
     "name": "stdout",
     "output_type": "stream",
     "text": [
      "100\n",
      "Car\n",
      "25000\n",
      "10.0\n",
      "['a', 'b', 'c']\n",
      "True\n",
      "('a', 'b')\n"
     ]
    }
   ],
   "source": [
    "# Your function here\n",
    "def check_lst(lst):\n",
    "    for var in lst:\n",
    "        print(var)\n",
    "\n",
    "# Test\n",
    "vars = [100,\"Car\",25000,10.0,[\"a\",\"b\",\"c\"],True,(\"a\",\"b\")]\n",
    "check_lst(vars)"
   ]
  },
  {
   "cell_type": "markdown",
   "metadata": {},
   "source": [
    "2 You are given two lists **l1** and **l2**. Create a function which will take two lists as input and print values that are present in both lists."
   ]
  },
  {
   "cell_type": "code",
   "execution_count": 2,
   "metadata": {},
   "outputs": [
    {
     "name": "stdout",
     "output_type": "stream",
     "text": [
      "[1, 5, 7, 9]\n"
     ]
    }
   ],
   "source": [
    "# Your function here\n",
    "def combine(l1,l2):\n",
    "    l3 = [value for value in l1 if value in l2]\n",
    "    return l3\n",
    "\n",
    "# Test\n",
    "l1 = [1,4,5,7,8,9,10]\n",
    "l2 = [1,2,3,5,6,7,9]\n",
    "print(combine(l1,l2))"
   ]
  },
  {
   "cell_type": "markdown",
   "metadata": {},
   "source": [
    "3 Below is a list containing words. Create a function which returns only words with length of 4 or less."
   ]
  },
  {
   "cell_type": "code",
   "execution_count": 3,
   "metadata": {},
   "outputs": [
    {
     "name": "stdout",
     "output_type": "stream",
     "text": [
      "code\n",
      "\n",
      "red\n",
      "mill\n",
      "are\n"
     ]
    }
   ],
   "source": [
    "# Your function here\n",
    "def sorting(words):\n",
    "    for x in words:\n",
    "        if len(x)<=4:\n",
    "            print(x)\n",
    "\n",
    "# Test\n",
    "words = [\"bootcamp\",\"yellow\",\"development\",\"full-time\",\"code\",\"fresh\",\"\",\"static\",\"red\",\"advance\",\"mill\",\"story\",\"are\"]\n",
    "sorting(words)"
   ]
  },
  {
   "cell_type": "markdown",
   "metadata": {},
   "source": [
    "4 Create a function which takes does the following:\n",
    "    - Take list of dictionaries containing information of data loggers presented below as an input\n",
    "    - Iterate through the dictionary and containing the count for total amount of each sensor type. Example: {\"temp\":2,\"hum\":5,\"light\":2,\"noise\":4}.\n",
    "    - Return this dictionary"
   ]
  },
  {
   "cell_type": "code",
   "execution_count": 1,
   "metadata": {},
   "outputs": [
    {
     "data": {
      "text/plain": [
       "{'temp': 5, 'hum': 5, 'noise': 2, 'light': 3}"
      ]
     },
     "execution_count": 1,
     "metadata": {},
     "output_type": "execute_result"
    }
   ],
   "source": [
    "# Data loggers\n",
    "sdata = [{\"ID\":\"logger-1\",\"sensors\":[\"temp\",\"hum\",\"noise\"]},{\"ID\":\"logger-2\",\"sensors\":[\"temp\",\"hum\"]},{\"ID\":\"logger-3\",\"sensors\":[\"temp\",\"hum\",\"light\"]},{\"ID\":\"logger-4\",\"sensors\":[\"temp\",\"hum\",\"light\"]},{\"ID\":\"logger-5\",\"sensors\":[\"temp\",\"hum\",\"noise\",\"light\"]}]\n",
    "def sensor_count(loggers):\n",
    "    res = {}\n",
    "    for logger in loggers:\n",
    "        for sensor in logger[\"sensors\"]:\n",
    "            if sensor not in res:\n",
    "                res[sensor] = 0\n",
    "            res[sensor] += 1\n",
    "    return res\n",
    "\n",
    "sensor_count(sdata)"
   ]
  },
  {
   "cell_type": "markdown",
   "metadata": {},
   "source": [
    "5 Create a class for computer user which contains the following information:\n",
    "- Attributes\n",
    "    - username\n",
    "    - password (in plaintext)\n",
    "    - account status (active, locked)\n",
    "    - usertype (guest,regular,admin)\n",
    "- Methods\n",
    "    - check account status\n",
    "    - change account status\n",
    "    - change password (must be at least 8 characters long or error is shown)\n",
    "\n",
    "Test the operation of your class! Password check does not have to be done when password is initially set for the object."
   ]
  }
 ],
 "metadata": {
  "kernelspec": {
   "display_name": "Python 3 (ipykernel)",
   "language": "python",
   "name": "python3"
  },
  "language_info": {
   "codemirror_mode": {
    "name": "ipython",
    "version": 3
   },
   "file_extension": ".py",
   "mimetype": "text/x-python",
   "name": "python",
   "nbconvert_exporter": "python",
   "pygments_lexer": "ipython3",
   "version": "3.8.8"
  }
 },
 "nbformat": 4,
 "nbformat_minor": 4
}
